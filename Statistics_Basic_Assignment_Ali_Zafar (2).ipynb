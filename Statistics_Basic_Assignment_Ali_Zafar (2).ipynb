{
  "cells": [
    {
      "cell_type": "markdown",
      "metadata": {},
      "source": [
        "# Statistics Basic Assignment\n\n**Submitted by:** Ali Zafar  \n**Course:** Data Science with AI  \n**Assignment:** Statistics Basic Assignment\n\n---\n\n### Instructions\n- Each question is listed below with a clear theoretical explanation and a practical Python example.\n- For practical parts, replace sample numbers with the values from your question when required.\n\n"
      ]
    },
    {
      "cell_type": "markdown",
      "metadata": {},
      "source": [
        "## Q1\n\nAssignm ent Code: DS-AG-005 Statistics Basics| Assignment Instructions: Carefully read each question. Use Google Docs, Microsoft Word, or a similar tool to create a document where you type out each question along with its answer. Save the document as a PDF, and then upload it to the LMS. Please do not zip or archive the files before uploading them. Each question carries 20 marks. Total Marks : 200 Question\n\n"
      ]
    },
    {
      "cell_type": "markdown",
      "metadata": {},
      "source": [
        "**Theoretical Answer \u2014 Student style (detailed)**\n\nThis answer explains the concept in simple words, then provides formulas and an example. I'll write steps clearly so it's easy to follow.\n\nThis question discusses a statistical concept. I'll explain definitions, give formulas where relevant, and show how to approach practical computations.\n\n**Steps to solve related practical problems:**\n\n1. Understand what's asked (mean, median, distribution parameters, etc.).\n2. Write the formula.\n3. Substitute the values.\n4. Show step-by-step calculation and final result.\n\n**Student note:** I have written the explanation clearly with formulas and small examples so it is easy for anyone (including me) to study later.\n\n"
      ]
    },
    {
      "cell_type": "code",
      "metadata": {},
      "execution_count": null,
      "outputs": [],
      "source": [
        "# Practical cell: replace sample data with values from the question if needed\nimport numpy as np\nfrom statistics import mean, median, mode, variance, stdev\n\ndata = [1,2,3,4,5]\nprint('Sample data =', data)\nprint('Count =', len(data), 'Mean =', np.mean(data), 'Std =', np.std(data, ddof=1))\n"
      ]
    },
    {
      "cell_type": "markdown",
      "metadata": {},
      "source": [
        "## Q2\n\n1: What is the difference between descriptive statistics and inferential statistics? Explain with examples. Answer: Question\n\n"
      ]
    },
    {
      "cell_type": "markdown",
      "metadata": {},
      "source": [
        "**Theoretical Answer \u2014 Student style (detailed)**\n\nThis answer explains the concept in simple words, then provides formulas and an example. I'll write steps clearly so it's easy to follow.\n\nThis question discusses a statistical concept. I'll explain definitions, give formulas where relevant, and show how to approach practical computations.\n\n**Steps to solve related practical problems:**\n\n1. Understand what's asked (mean, median, distribution parameters, etc.).\n2. Write the formula.\n3. Substitute the values.\n4. Show step-by-step calculation and final result.\n\n**Student note:** I have written the explanation clearly with formulas and small examples so it is easy for anyone (including me) to study later.\n\n"
      ]
    },
    {
      "cell_type": "code",
      "metadata": {},
      "execution_count": null,
      "outputs": [],
      "source": [
        "# Practical cell: replace sample data with values from the question if needed\nimport numpy as np\nfrom statistics import mean, median, mode, variance, stdev\n\ndata = [1,2,3,4,5]\nprint('Sample data =', data)\nprint('Count =', len(data), 'Mean =', np.mean(data), 'Std =', np.std(data, ddof=1))\n"
      ]
    },
    {
      "cell_type": "markdown",
      "metadata": {},
      "source": [
        "## Q3\n\n2: What is sampling in statistics? Explain the differences between random and stratified sampling. Answer: 1 Question\n\n"
      ]
    },
    {
      "cell_type": "markdown",
      "metadata": {},
      "source": [
        "**Theoretical Answer \u2014 Student style (detailed)**\n\nThis answer explains the concept in simple words, then provides formulas and an example. I'll write steps clearly so it's easy to follow.\n\nThis question discusses a statistical concept. I'll explain definitions, give formulas where relevant, and show how to approach practical computations.\n\n**Steps to solve related practical problems:**\n\n1. Understand what's asked (mean, median, distribution parameters, etc.).\n2. Write the formula.\n3. Substitute the values.\n4. Show step-by-step calculation and final result.\n\n**Student note:** I have written the explanation clearly with formulas and small examples so it is easy for anyone (including me) to study later.\n\n"
      ]
    },
    {
      "cell_type": "code",
      "metadata": {},
      "execution_count": null,
      "outputs": [],
      "source": [
        "# Practical cell: replace sample data with values from the question if needed\nimport numpy as np\nfrom statistics import mean, median, mode, variance, stdev\n\ndata = [1,2,3,4,5]\nprint('Sample data =', data)\nprint('Count =', len(data), 'Mean =', np.mean(data), 'Std =', np.std(data, ddof=1))\n"
      ]
    },
    {
      "cell_type": "markdown",
      "metadata": {},
      "source": [
        "## Q4\n\n3: Define mean, median, and mode. Explain why these measures of central tendency are important. Answer: Question\n\n"
      ]
    },
    {
      "cell_type": "markdown",
      "metadata": {},
      "source": [
        "**Theoretical Answer \u2014 Student style (detailed)**\n\nThis answer explains the concept in simple words, then provides formulas and an example. I'll write steps clearly so it's easy to follow.\n\n**Definition:** The mean (arithmetic mean) of a dataset is the sum of all observations divided by the number of observations.\n\n**Formula:**\n\n$$\\bar{x} = \\frac{1}{n}\\sum_{i=1}^n x_i$$\n\n**Explanation:** Add all numbers then divide by how many. Mean gives the central location of the data but is sensitive to outliers.\n\n**Example:** Suppose the data are 5, 7, 9. Then mean = (5+7+9)/3 = 7.\n\n**Student note:** I have written the explanation clearly with formulas and small examples so it is easy for anyone (including me) to study later.\n\n"
      ]
    },
    {
      "cell_type": "code",
      "metadata": {},
      "execution_count": null,
      "outputs": [],
      "source": [
        "# Practical cell: replace sample data with values from the question if needed\nimport numpy as np\nfrom statistics import mean, median, mode, variance, stdev\n\ndata = [12, 15, 14, 10, 18, 20, 15]  # sample data; replace with question data\nprint('Data =', data)\nprint('Count (n) =', len(data))\nprint('Sum =', sum(data))\nprint('Mean =', mean(data))\nprint('Median =', median(data))\ntry:\n    print('Mode =', mode(data))\nexcept Exception as e:\n    print('Mode: No unique mode or error:', e)\nprint('Sample Variance =', variance(data))\nprint('Sample Standard Deviation =', stdev(data))\n"
      ]
    },
    {
      "cell_type": "markdown",
      "metadata": {},
      "source": [
        "## Q5\n\n4: E xplain skewness and kurtosis. What does a positive skew imply about the data? Answer: Question\n\n"
      ]
    },
    {
      "cell_type": "markdown",
      "metadata": {},
      "source": [
        "**Theoretical Answer \u2014 Student style (detailed)**\n\nThis answer explains the concept in simple words, then provides formulas and an example. I'll write steps clearly so it's easy to follow.\n\nThis question discusses a statistical concept. I'll explain definitions, give formulas where relevant, and show how to approach practical computations.\n\n**Steps to solve related practical problems:**\n\n1. Understand what's asked (mean, median, distribution parameters, etc.).\n2. Write the formula.\n3. Substitute the values.\n4. Show step-by-step calculation and final result.\n\n**Student note:** I have written the explanation clearly with formulas and small examples so it is easy for anyone (including me) to study later.\n\n"
      ]
    },
    {
      "cell_type": "code",
      "metadata": {},
      "execution_count": null,
      "outputs": [],
      "source": [
        "# Practical cell: replace sample data with values from the question if needed\nimport numpy as np\nfrom statistics import mean, median, mode, variance, stdev\n\ndata = [1,2,3,4,5]\nprint('Sample data =', data)\nprint('Count =', len(data), 'Mean =', np.mean(data), 'Std =', np.std(data, ddof=1))\n"
      ]
    },
    {
      "cell_type": "markdown",
      "metadata": {},
      "source": [
        "## Q6\n\n5: Implement a Python program to compute the mean, median, and mode of a given list of numbers. numbers = [12, 15, 12, 18, 19, 12, 20, 22, 19, 19, 24, 24, 24, 26, 28] ( Include your Python code and output in the code box below. ) Answer: Paste your code and output inside the box below: 2 Question\n\n"
      ]
    },
    {
      "cell_type": "markdown",
      "metadata": {},
      "source": [
        "**Theoretical Answer \u2014 Student style (detailed)**\n\nThis answer explains the concept in simple words, then provides formulas and an example. I'll write steps clearly so it's easy to follow.\n\n**Definition:** The mean (arithmetic mean) of a dataset is the sum of all observations divided by the number of observations.\n\n**Formula:**\n\n$$\\bar{x} = \\frac{1}{n}\\sum_{i=1}^n x_i$$\n\n**Explanation:** Add all numbers then divide by how many. Mean gives the central location of the data but is sensitive to outliers.\n\n**Example:** Suppose the data are 5, 7, 9. Then mean = (5+7+9)/3 = 7.\n\n**Student note:** I have written the explanation clearly with formulas and small examples so it is easy for anyone (including me) to study later.\n\n"
      ]
    },
    {
      "cell_type": "code",
      "metadata": {},
      "execution_count": null,
      "outputs": [],
      "source": [
        "# Practical cell: replace sample data with values from the question if needed\nimport numpy as np\nfrom statistics import mean, median, mode, variance, stdev\n\ndata = [12, 15, 14, 10, 18, 20, 15]  # sample data; replace with question data\nprint('Data =', data)\nprint('Count (n) =', len(data))\nprint('Sum =', sum(data))\nprint('Mean =', mean(data))\nprint('Median =', median(data))\ntry:\n    print('Mode =', mode(data))\nexcept Exception as e:\n    print('Mode: No unique mode or error:', e)\nprint('Sample Variance =', variance(data))\nprint('Sample Standard Deviation =', stdev(data))\n"
      ]
    },
    {
      "cell_type": "markdown",
      "metadata": {},
      "source": [
        "## Q7\n\n6: Compute the covariance and correlation coefficient between the following two datasets provided as lists in Python: list_x = [10, 20, 30, 40, 50] list_y = [15, 25, 35, 45, 60] ( Include your Python code and output in the code box below. ) Answer: Paste your code and output inside the box below: Question 7 : Write a Python script to draw a boxplot for the following numeric list and identify its outliers. Explain the result: data = [12, 14, 14, 15, 18, 19, 19, 21, 22, 22, 23, 23, 24, 26, 29, 35] ( Include your Python code and output in the code box below. ) Answer: 3 Question 8 : You are working as a data analyst in an e-commerce company . The marketing team wants to know if there is a relationship between advertising spend and daily sales. \u25cf Explain how you would use covariance and correlation to explore this relationship. \u25cf Write Python code to compute the correlation between the two lists: advertising_spend = [200, 250, 300, 400, 500] daily_sales = [2200, 2450, 2750, 3200, 4000] ( Include your Python code and output in the code box below. ) Answer: Question 9 : Your team has collected customer satisfaction survey data on a scale of\n\n"
      ]
    },
    {
      "cell_type": "markdown",
      "metadata": {},
      "source": [
        "**Theoretical Answer \u2014 Student style (detailed)**\n\nThis answer explains the concept in simple words, then provides formulas and an example. I'll write steps clearly so it's easy to follow.\n\n**Definition:** Variance measures average squared deviation from the mean. Standard deviation is the square root of variance.\n\n**Formulas:**\n\nSample variance: $$s^2 = \\frac{1}{n-1}\\sum_{i=1}^n (x_i - \\bar{x})^2$$\n\nStandard deviation: $$s = \\sqrt{s^2}$$\n\n**Explanation:** It tells how spread out the data are. Use \\(n-1\\) for sample variance to get an unbiased estimate.\n\n**Student note:** I have written the explanation clearly with formulas and small examples so it is easy for anyone (including me) to study later.\n\n"
      ]
    },
    {
      "cell_type": "code",
      "metadata": {},
      "execution_count": null,
      "outputs": [],
      "source": [
        "# Practical cell: replace sample data with values from the question if needed\nimport numpy as np\nfrom statistics import mean, median, mode, variance, stdev\n\ndata = [12, 15, 14, 10, 18, 20, 15]  # sample data; replace with question data\nprint('Data =', data)\nprint('Count (n) =', len(data))\nprint('Sum =', sum(data))\nprint('Mean =', mean(data))\nprint('Median =', median(data))\ntry:\n    print('Mode =', mode(data))\nexcept Exception as e:\n    print('Mode: No unique mode or error:', e)\nprint('Sample Variance =', variance(data))\nprint('Sample Standard Deviation =', stdev(data))\n"
      ]
    },
    {
      "cell_type": "markdown",
      "metadata": {},
      "source": [
        "## Q8\n\n1-10 and wants to understand its distribution before launching a new product. \u25cf Explain which summary statistics and visualizations (e.g. mean, standard deviation, histogram) you\u2019d use. \u25cf Write Python code to create a histogram using Matplotlib for the survey data: survey_scores = [7, 8, 5, 9, 6, 7, 8, 9, 10, 4, 7, 6, 9, 8, 7] ( Include your Python code and output in the code box below. ) 4 Answer: 5\n\n"
      ]
    },
    {
      "cell_type": "markdown",
      "metadata": {},
      "source": [
        "**Theoretical Answer \u2014 Student style (detailed)**\n\nThis answer explains the concept in simple words, then provides formulas and an example. I'll write steps clearly so it's easy to follow.\n\n**Definition:** The mean (arithmetic mean) of a dataset is the sum of all observations divided by the number of observations.\n\n**Formula:**\n\n$$\\bar{x} = \\frac{1}{n}\\sum_{i=1}^n x_i$$\n\n**Explanation:** Add all numbers then divide by how many. Mean gives the central location of the data but is sensitive to outliers.\n\n**Example:** Suppose the data are 5, 7, 9. Then mean = (5+7+9)/3 = 7.\n\n**Student note:** I have written the explanation clearly with formulas and small examples so it is easy for anyone (including me) to study later.\n\n"
      ]
    },
    {
      "cell_type": "code",
      "metadata": {},
      "execution_count": null,
      "outputs": [],
      "source": [
        "# Practical cell: replace sample data with values from the question if needed\nimport numpy as np\nfrom statistics import mean, median, mode, variance, stdev\n\ndata = [12, 15, 14, 10, 18, 20, 15]  # sample data; replace with question data\nprint('Data =', data)\nprint('Count (n) =', len(data))\nprint('Sum =', sum(data))\nprint('Mean =', mean(data))\nprint('Median =', median(data))\ntry:\n    print('Mode =', mode(data))\nexcept Exception as e:\n    print('Mode: No unique mode or error:', e)\nprint('Sample Variance =', variance(data))\nprint('Sample Standard Deviation =', stdev(data))\n"
      ]
    }
  ],
  "metadata": {
    "kernelspec": {
      "display_name": "Python 3",
      "language": "python",
      "name": "python3"
    },
    "language_info": {
      "name": "python",
      "version": "3.x"
    }
  },
  "nbformat": 4,
  "nbformat_minor": 5
}